{
 "cells": [
  {
   "cell_type": "markdown",
   "metadata": {},
   "source": [
    "## Language detection"
   ]
  },
  {
   "cell_type": "code",
   "execution_count": 1,
   "metadata": {},
   "outputs": [],
   "source": [
    "from langdetect import detect, detect_langs"
   ]
  },
  {
   "cell_type": "code",
   "execution_count": 3,
   "metadata": {},
   "outputs": [
    {
     "name": "stdout",
     "output_type": "stream",
     "text": [
      "Detected Language:  en\n",
      "Detected Language:  [en:0.9999983701057245]\n"
     ]
    }
   ],
   "source": [
    "sentence = \"She is reading a book\"\n",
    "print(\"Detected Language: \", detect(sentence))\n",
    "print(\"Detected Language: \", detect_langs(sentence))"
   ]
  },
  {
   "cell_type": "code",
   "execution_count": 4,
   "metadata": {},
   "outputs": [
    {
     "name": "stdout",
     "output_type": "stream",
     "text": [
      "Detected Language:  kn\n",
      "Detected Language:  [kn:0.9999999610610902]\n"
     ]
    }
   ],
   "source": [
    "sentence = \"ಅವಳು ಓದುತ್ತಿದ್ದಾಳೆ \"\n",
    "print(\"Detected Language: \", detect(sentence))\n",
    "print(\"Detected Language: \", detect_langs(sentence))"
   ]
  },
  {
   "cell_type": "code",
   "execution_count": 5,
   "metadata": {},
   "outputs": [
    {
     "name": "stdout",
     "output_type": "stream",
     "text": [
      "Detect Language: hi\n",
      "Probability: [hi:0.9999979204227843]\n"
     ]
    }
   ],
   "source": [
    "sentence = \"आज का दिन बहुत खूबसूरत है\"\n",
    "\n",
    "print(\"Detect Language:\", detect(sentence))\n",
    "print(\"Probability:\", detect_langs(sentence))"
   ]
  },
  {
   "cell_type": "markdown",
   "metadata": {},
   "source": [
    "### Language translation"
   ]
  },
  {
   "cell_type": "code",
   "execution_count": 6,
   "metadata": {},
   "outputs": [],
   "source": [
    "from googletrans import Translator"
   ]
  },
  {
   "cell_type": "code",
   "execution_count": 10,
   "metadata": {},
   "outputs": [
    {
     "name": "stdout",
     "output_type": "stream",
     "text": [
      "Translated Text:  Today is very beautiful\n"
     ]
    }
   ],
   "source": [
    "translator = Translator()\n",
    "\n",
    "sentence = \"आज का दिन बहुत खूबसूरत है\"\n",
    "translate_text = translator.translate(sentence, src='hi', dest='en')\n",
    "\n",
    "print(\"Translated Text: \", translate_text.text)"
   ]
  },
  {
   "cell_type": "code",
   "execution_count": 11,
   "metadata": {},
   "outputs": [
    {
     "name": "stdout",
     "output_type": "stream",
     "text": [
      "Translated Text:  She is so pretty\n"
     ]
    }
   ],
   "source": [
    "sentence = \"ಅವಳು  ತುಂಬಾ ಸುಂದರವಾಗಿ ಇದ್ದಾಳೆ \"\n",
    "translate_text = translator.translate(sentence, src='kn', dest='en')\n",
    "\n",
    "print(\"Translated Text: \", translate_text.text)"
   ]
  },
  {
   "cell_type": "markdown",
   "metadata": {},
   "source": [
    "### Detections and translation both"
   ]
  },
  {
   "cell_type": "code",
   "execution_count": 12,
   "metadata": {},
   "outputs": [],
   "source": [
    "def detect_and_translate(text, target_lang):\n",
    "    # Detect lang\n",
    "    result_lang = detect(text)\n",
    "    \n",
    "    # translate lang\n",
    "    translator = Translator()\n",
    "    translate_text = translator.translate(text, dest=target_lang).text\n",
    "    \n",
    "    return result_lang, translate_text"
   ]
  },
  {
   "cell_type": "code",
   "execution_count": 13,
   "metadata": {},
   "outputs": [
    {
     "name": "stdout",
     "output_type": "stream",
     "text": [
      "Language:  hi\n",
      "Translation:  Today is very beautiful\n"
     ]
    }
   ],
   "source": [
    "sentence = \"आज का दिन बहुत खूबसूरत है\"\n",
    "\n",
    "result_lang, translate_text = detect_and_translate(sentence, target_lang='en')\n",
    "\n",
    "print(\"Language: \", result_lang)\n",
    "print(\"Translation: \", translate_text)"
   ]
  },
  {
   "cell_type": "code",
   "execution_count": 14,
   "metadata": {},
   "outputs": [
    {
     "name": "stdout",
     "output_type": "stream",
     "text": [
      "Language:  kn\n",
      "Translation:  She is so pretty\n"
     ]
    }
   ],
   "source": [
    "sentence = \"ಅವಳು  ತುಂಬಾ ಸುಂದರವಾಗಿ ಇದ್ದಾಳೆ\"\n",
    "\n",
    "result_lang, translate_text = detect_and_translate(sentence, target_lang='en')\n",
    "\n",
    "print(\"Language: \", result_lang)\n",
    "print(\"Translation: \", translate_text)"
   ]
  },
  {
   "cell_type": "code",
   "execution_count": null,
   "metadata": {},
   "outputs": [],
   "source": []
  }
 ],
 "metadata": {
  "kernelspec": {
   "display_name": "genlang",
   "language": "python",
   "name": "python3"
  },
  "language_info": {
   "codemirror_mode": {
    "name": "ipython",
    "version": 3
   },
   "file_extension": ".py",
   "mimetype": "text/x-python",
   "name": "python",
   "nbconvert_exporter": "python",
   "pygments_lexer": "ipython3",
   "version": "3.10.14"
  }
 },
 "nbformat": 4,
 "nbformat_minor": 2
}
